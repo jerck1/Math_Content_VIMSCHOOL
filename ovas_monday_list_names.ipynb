{
 "cells": [
  {
   "cell_type": "code",
   "execution_count": 1,
   "metadata": {},
   "outputs": [],
   "source": [
    "import os\n",
    "import requests\n",
    "import json"
   ]
  },
  {
   "cell_type": "markdown",
   "metadata": {},
   "source": [
    "Monday.com API configuration"
   ]
  },
  {
   "cell_type": "code",
   "execution_count": 1,
   "metadata": {},
   "outputs": [
    {
     "ename": "NameError",
     "evalue": "name 'os' is not defined",
     "output_type": "error",
     "traceback": [
      "\u001b[0;31m---------------------------------------------------------------------------\u001b[0m",
      "\u001b[0;31mNameError\u001b[0m                                 Traceback (most recent call last)",
      "Input \u001b[0;32mIn [1]\u001b[0m, in \u001b[0;36m<cell line: 1>\u001b[0;34m()\u001b[0m\n\u001b[0;32m----> 1\u001b[0m API_KEY \u001b[38;5;241m=\u001b[39m \u001b[43mos\u001b[49m\u001b[38;5;241m.\u001b[39mgetenv(\u001b[38;5;124m'\u001b[39m\u001b[38;5;124mMONDAY_API_KEY\u001b[39m\u001b[38;5;124m'\u001b[39m, \u001b[38;5;28minput\u001b[39m(\u001b[38;5;124m\"\u001b[39m\u001b[38;5;124mEnter your Monday.com API Key: \u001b[39m\u001b[38;5;124m\"\u001b[39m))\n\u001b[1;32m      2\u001b[0m API_URL \u001b[38;5;241m=\u001b[39m \u001b[38;5;124m\"\u001b[39m\u001b[38;5;124mhttps://api.monday.com/v2\u001b[39m\u001b[38;5;124m\"\u001b[39m\n\u001b[1;32m      3\u001b[0m HEADERS \u001b[38;5;241m=\u001b[39m {\n\u001b[1;32m      4\u001b[0m     \u001b[38;5;124m\"\u001b[39m\u001b[38;5;124mAuthorization\u001b[39m\u001b[38;5;124m\"\u001b[39m: API_KEY,\n\u001b[1;32m      5\u001b[0m     \u001b[38;5;124m\"\u001b[39m\u001b[38;5;124mContent-Type\u001b[39m\u001b[38;5;124m\"\u001b[39m: \u001b[38;5;124m\"\u001b[39m\u001b[38;5;124mapplication/json\u001b[39m\u001b[38;5;124m\"\u001b[39m\n\u001b[1;32m      6\u001b[0m }\n",
      "\u001b[0;31mNameError\u001b[0m: name 'os' is not defined"
     ]
    }
   ],
   "source": [
    "API_KEY = os.getenv('MONDAY_API_KEY', input(\"Enter your Monday.com API Key: \"))\n",
    "API_URL = \"https://api.monday.com/v2\"\n",
    "HEADERS = {\n",
    "    \"Authorization\": API_KEY,\n",
    "    \"Content-Type\": \"application/json\"\n",
    "}"
   ]
  },
  {
   "cell_type": "code",
   "execution_count": 3,
   "metadata": {},
   "outputs": [],
   "source": [
    "def get_board_details(board_id):\n",
    "    \"\"\"\n",
    "    Fetch detailed information about a specific board\n",
    "    \"\"\"\n",
    "    query = f'''\n",
    "    {{\n",
    "        boards(ids: {board_id}) {{\n",
    "            id\n",
    "            name\n",
    "            groups {{\n",
    "                id\n",
    "                title\n",
    "            }}\n",
    "            columns {{\n",
    "                id\n",
    "                title\n",
    "                type\n",
    "            }}\n",
    "        }}\n",
    "    }}\n",
    "    '''\n",
    "    \n",
    "    response = requests.post(API_URL, json={'query': query}, headers=HEADERS)\n",
    "    board_data = response.json()['data']['boards'][0]\n",
    "    \n",
    "    print(f\"\\n--- Board: {board_data['name']} (ID: {board_data['id']}) ---\")\n",
    "    \n",
    "    print(\"\\nGroups:\")\n",
    "    for group in board_data['groups']:\n",
    "        print(f\"  Group ID: {group['id']}, Name: {group['title']}\")\n",
    "    \n",
    "    print(\"\\nColumns:\")\n",
    "    for column in board_data['columns']:\n",
    "        print(f\"  Column ID: {column['id']}, Name: {column['title']}, Type: {column['type']}\")"
   ]
  },
  {
   "cell_type": "code",
   "execution_count": 4,
   "metadata": {},
   "outputs": [],
   "source": [
    "def list_all_boards():\n",
    "    \"\"\"\n",
    "    List all boards with basic information\n",
    "    \"\"\"\n",
    "    query = '''\n",
    "    {\n",
    "        boards {\n",
    "            id\n",
    "            name\n",
    "            type\n",
    "        }\n",
    "    }\n",
    "    '''\n",
    "    \n",
    "    response = requests.post(API_URL, json={'query': query}, headers=HEADERS)\n",
    "    boards = response.json()['data']['boards']\n",
    "    \n",
    "    print(\"\\n--- Available Boards ---\")\n",
    "    for board in boards:\n",
    "        print(f\"Board ID: {board['id']}, Name: {board['name']}, Type: {board['type']}\")\n",
    "    \n",
    "    return boards"
   ]
  },
  {
   "cell_type": "code",
   "execution_count": 5,
   "metadata": {},
   "outputs": [],
   "source": [
    "def main():\n",
    "    print(\"Choose an option:\")\n",
    "    print(\"1. List All Boards\")\n",
    "    print(\"2. Get Details of a Specific Board\")\n",
    "    \n",
    "    choice = input(\"Enter your choice (1/2): \")\n",
    "    \n",
    "    if choice == '1':\n",
    "        list_all_boards()\n",
    "    elif choice == '2':\n",
    "        board_id = input(\"Enter the Board ID: \")\n",
    "        get_board_details(board_id)\n",
    "    else:\n",
    "        print(\"Invalid choice\")"
   ]
  },
  {
   "cell_type": "code",
   "execution_count": 8,
   "metadata": {},
   "outputs": [
    {
     "name": "stdout",
     "output_type": "stream",
     "text": [
      "Choose an option:\n",
      "1. List All Boards\n",
      "2. Get Details of a Specific Board\n",
      "Enter your choice (1/2): 2\n",
      "Enter the Board ID: 4760298858\n",
      "\n",
      "--- Board: VIMS ONLINE SCHOOL (ID: 4760298858) ---\n",
      "\n",
      "Groups:\n",
      "  Group ID: new_group__1, Name: 9TH GRADE - MATH\n",
      "  Group ID: new_group2521__1, Name: 10TH GRADE MATH\n",
      "  Group ID: new_group45379__1, Name: 11TH GRADE MATH\n",
      "  Group ID: new_group58093__1, Name: 12TH GRADE MATH\n",
      "\n",
      "Columns:\n",
      "  Column ID: name, Name: Name, Type: name\n",
      "  Column ID: subitems, Name: Subtasks, Type: subtasks\n",
      "  Column ID: project_owner, Name: Dueño, Type: people\n",
      "  Column ID: people, Name: Collaborators, Type: people\n",
      "  Column ID: project_status, Name: Status, Type: status\n",
      "  Column ID: project_timeline, Name: Timeline, Type: timeline\n",
      "  Column ID: date, Name: Date, Type: date\n",
      "  Column ID: status_1, Name: Priority, Type: status\n",
      "  Column ID: text, Name: LINK de la ova, Type: text\n",
      "  Column ID: text4, Name: Text n Audio - LINK, Type: text\n",
      "  Column ID: integration, Name: Google Calendar event, Type: integration\n",
      "  Column ID: item_id__1, Name: Item ID, Type: item_id\n"
     ]
    }
   ],
   "source": [
    "if __name__ == \"__main__\":\n",
    "    main()"
   ]
  },
  {
   "cell_type": "markdown",
   "metadata": {},
   "source": [
    "Quick Reference:<br>\n",
    "1. This script helps you discover:<br>\n",
    "   - Board IDs<br>\n",
    "   - Group IDs<br>\n",
    "   - Column IDs and their types<br>\n",
    "2. Use the discovered IDs in your task creation script<br>\n",
    "3. Pay attention to column types when setting values"
   ]
  }
 ],
 "metadata": {
  "kernelspec": {
   "display_name": "Python 3 (ipykernel)",
   "language": "python",
   "name": "python3"
  },
  "language_info": {
   "codemirror_mode": {
    "name": "ipython",
    "version": 3
   },
   "file_extension": ".py",
   "mimetype": "text/x-python",
   "name": "python",
   "nbconvert_exporter": "python",
   "pygments_lexer": "ipython3",
   "version": "3.9.12"
  }
 },
 "nbformat": 4,
 "nbformat_minor": 2
}
